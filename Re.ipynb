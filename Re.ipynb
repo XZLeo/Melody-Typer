{
 "nbformat": 4,
 "nbformat_minor": 2,
 "metadata": {
  "language_info": {
   "name": "python",
   "codemirror_mode": {
    "name": "ipython",
    "version": 3
   },
   "version": "3.8.1-final"
  },
  "orig_nbformat": 2,
  "file_extension": ".py",
  "mimetype": "text/x-python",
  "name": "python",
  "npconvert_exporter": "python",
  "pygments_lexer": "ipython3",
  "version": 3,
  "kernelspec": {
   "name": "python38164bit158c2c1e676b494baa8f78113260f56b",
   "display_name": "Python 3.8.1 64-bit"
  }
 },
 "cells": [
  {
   "cell_type": "markdown",
   "metadata": {},
   "source": [
    "## 正则表达式\n",
    "正则表达式的匹配行为可以匹配特定字符串，并用计算后的指替换特定模式，或者将文本分段\n",
    "### 通配符和转义  \n",
    "`.`是通配符，可以匹配出`\\n`换行符之外的任何字符\n",
    "所以要匹配`.`需要转义，`python\\\\.org`才能匹配`python.org`而不会当成`pythonaorg`或者`python org`等通配符\n",
    "### 字符集character set\n",
    "控制匹配字符的范围:`[pj]ython`可以匹配python和jython  \n",
    "还可以将范围联合使用:`[a-zA-Z0-9]`  \n",
    "反转字符集：`[^abc]`可皮牌除abc以外的字母  \n",
    "### 选择符和子模式subpattern \n",
    "`p(ython|erl)`匹配python和perl  \n",
    "可选项和重复子模式：`(http://)?(www\\.)?python\\.org`只会匹配下列字符串：\n",
    "```\n",
    "http://www.python.org\n",
    "http://python.org\n",
    "www.python.org\n",
    "python.org\n",
    "```\n",
    "子模式后加`?`就变成可选项，可选子模式用圆括号括起，各个可选子模式之间互相独立\n",
    "```\n",
    "(pattern)* 允许重复0次或多次\n",
    "(pattern)+ 允许重复1次或多次\n",
    "(pattern){m,n} 允许重复m~n次\n",
    "```\n",
    "\n",
    "### re模块几种不同的函数"
   ]
  },
  {
   "cell_type": "code",
   "execution_count": 1,
   "metadata": {},
   "outputs": [
    {
     "name": "stdout",
     "output_type": "stream",
     "text": "Found it!\n"
    }
   ],
   "source": [
    "import re \n",
    "pat = 'p.t'\n",
    "string = 'pattern'\n",
    "if re.search(pat, string): #找到返回True\n",
    "    print('Found it!')\n",
    "# 通过串寻找一个匹配的模式，返回一个匹配的对象，如果没有找到匹配就返回None"
   ]
  },
  {
   "cell_type": "code",
   "execution_count": 6,
   "metadata": {},
   "outputs": [
    {
     "name": "stdout",
     "output_type": "stream",
     "text": "None\n<re.Match object; span=(0, 3), match='pat'>\n"
    }
   ],
   "source": [
    "# 在开头寻找pattern\n",
    "print(re.match(pat, 'thisisapattern'))\n",
    "print(re.match(pat, 'patternisthis'))\n",
    "# match() 函数只在字符串的开始位置尝试匹配正则表达式，也就是只报告从位置 0 开始的匹配情况，而 search() 函数是扫描整个字符串来查找匹配"
   ]
  },
  {
   "cell_type": "code",
   "execution_count": 5,
   "metadata": {},
   "outputs": [
    {
     "name": "stdout",
     "output_type": "stream",
     "text": "re.compile('\\\\[(.+?)\\\\]')\n<class 're.Pattern'>\n"
    }
   ],
   "source": [
    " file_pat = re.compile(r'\\[(.+?)\\]')\n",
    " print(file_pat)\n",
    " print(type(file_pat))\n",
    " # compile函数的用法Compile a regular expression pattern, returning a pattern object.\n",
    " # 把正则表达式的模式和标识转化成正则表达式对象，供 match() 和 search() 这两个函数使用。"
   ]
  },
  {
   "cell_type": "markdown",
   "metadata": {},
   "source": [
    "`re.sub(pattern, repl, string, count=0, flags=0)`\n",
    "在字符串 string 中找到匹配正则表达式 pattern 的所有子串，\n",
    "用另一个字符串 repl 进行替换。如果没有找到匹配 pattern 的串，\n",
    "则返回未被修改的 string。Repl 既可以是字符串也可以是一个函数。\n",
    "\n",
    "可以实现replace方法无法实现的\n",
    "下面用replace完成替换"
   ]
  },
  {
   "cell_type": "code",
   "execution_count": 8,
   "metadata": {},
   "outputs": [
    {
     "data": {
      "text/plain": "'hello234world234'"
     },
     "execution_count": 8,
     "metadata": {},
     "output_type": "execute_result"
    }
   ],
   "source": [
    "inputStr = \"hello123world123\"\n",
    "inputStr.replace(\"123\", \"234\")"
   ]
  },
  {
   "cell_type": "markdown",
   "metadata": {},
   "source": [
    "如果inputStr是hello123world345就没法完成替换"
   ]
  },
  {
   "cell_type": "code",
   "execution_count": 9,
   "metadata": {},
   "outputs": [
    {
     "data": {
      "text/plain": "'hello234world234'"
     },
     "execution_count": 9,
     "metadata": {},
     "output_type": "execute_result"
    }
   ],
   "source": [
    "inputStr = \"hello123world456\"\n",
    "re.sub(\"\\d+\", \"234\", inputStr)"
   ]
  },
  {
   "cell_type": "markdown",
   "metadata": {},
   "source": [
    "### 模板系统 \n",
    "类似于字符串格式化"
   ]
  },
  {
   "cell_type": "code",
   "execution_count": 4,
   "metadata": {},
   "outputs": [
    {
     "name": "stdout",
     "output_type": "stream",
     "text": "[name=\"Mr.Gumby\"]Hello, [name]\n"
    }
   ],
   "source": [
    "print('[name=\"Mr.Gumby\"]Hello, [name]') #注意这里的单双引号"
   ]
  }
 ]
}