{
 "nbformat": 4,
 "nbformat_minor": 2,
 "metadata": {
  "language_info": {
   "name": "python",
   "codemirror_mode": {
    "name": "ipython",
    "version": 3
   },
   "version": "3.8.1-final"
  },
  "orig_nbformat": 2,
  "file_extension": ".py",
  "mimetype": "text/x-python",
  "name": "python",
  "npconvert_exporter": "python",
  "pygments_lexer": "ipython3",
  "version": 3,
  "kernelspec": {
   "name": "python38164bit158c2c1e676b494baa8f78113260f56b",
   "display_name": "Python 3.8.1 64-bit"
  }
 },
 "cells": [
  {
   "cell_type": "markdown",
   "metadata": {},
   "source": [
    "## 正则表达式\n",
    "正则表达式的匹配行为可以匹配特定字符串，并用计算后的指替换特定模式，或者将文本分段\n",
    "### 通配符和转义  \n",
    "`.`是通配符，可以匹配出`\\n`换行符之外的任何字符\n",
    "所以要匹配`.`需要转义，`python\\\\.org`才能匹配`python.org`而不会当成`pythonaorg`或者`python org`等通配符\n",
    "### 字符集character set\n",
    "控制匹配字符的范围:`[pj]ython`可以匹配python和jython  \n",
    "还可以将范围联合使用:`[a-zA-Z0-9]`  \n",
    "反转字符集：`[^abc]`可皮牌除abc以外的字母  \n",
    "### 选择符和子模式subpattern \n",
    "`p(ython|erl)`匹配python和perl  \n",
    "可选项和重复子模式：`(http://)?(www\\.)?python\\.org`只会匹配下列字符串：\n",
    "```\n",
    "http://www.python.org\n",
    "http://python.org\n",
    "www.python.org\n",
    "python.org\n",
    "```\n",
    "子模式后加`?`就变成可选项，可选子模式用圆括号括起，各个可选子模式之间互相独立\n",
    "```\n",
    "(pattern)* 允许重复0次或多次\n",
    "(pattern)+ 允许重复1次或多次\n",
    "(pattern){m,n} 允许重复m~n次\n",
    "```\n",
    "\n",
    "### re模块几种不同的函数"
   ]
  },
  {
   "cell_type": "code",
   "execution_count": 1,
   "metadata": {},
   "outputs": [
    {
     "name": "stdout",
     "output_type": "stream",
     "text": "Found it!\n"
    }
   ],
   "source": [
    "import re \n",
    "pat = 'p.t'\n",
    "string = 'pattern'\n",
    "if re.search(pat, string): #找到返回True\n",
    "    print('Found it!')\n",
    "# 通过串寻找一个匹配的模式，返回一个匹配的对象，如果没有找到匹配就返回None"
   ]
  },
  {
   "cell_type": "code",
   "execution_count": 2,
   "metadata": {},
   "outputs": [
    {
     "name": "stdout",
     "output_type": "stream",
     "text": "None\n<re.Match object; span=(0, 3), match='pat'>\n"
    }
   ],
   "source": [
    "# 在开头寻找pattern\n",
    "print(re.match(pat, 'thisisapattern'))\n",
    "print(re.match(pat, 'patternisthis'))\n",
    "# match() 函数只在字符串的开始位置尝试匹配正则表达式，也就是只报告从位置 0 开始的匹配情况，而 search() 函数是扫描整个字符串来查找匹配"
   ]
  },
  {
   "cell_type": "code",
   "execution_count": 3,
   "metadata": {},
   "outputs": [
    {
     "name": "stdout",
     "output_type": "stream",
     "text": "re.compile('\\\\[(.+?)\\\\]')\n<class 're.Pattern'>\n"
    }
   ],
   "source": [
    " file_pat = re.compile(r'\\[(.+?)\\]')\n",
    " print(file_pat)\n",
    " print(type(file_pat))\n",
    " # compile函数的用法Compile a regular expression pattern, returning a pattern object.\n",
    " # 把正则表达式的模式和标识转化成正则表达式对象，供 match() 和 search() 这两个函数使用。"
   ]
  },
  {
   "cell_type": "markdown",
   "metadata": {},
   "source": [
    "`re.sub(pattern, repl, string, count=0, flags=0)`\n",
    "在字符串 string 中找到匹配正则表达式 pattern 的所有子串，\n",
    "用另一个字符串 repl 进行替换。如果没有找到匹配 pattern 的串，\n",
    "则返回未被修改的 string。Repl 既可以是字符串也可以是一个函数。\n",
    "\n",
    "可以实现replace方法无法实现的\n",
    "下面用replace完成替换"
   ]
  },
  {
   "cell_type": "code",
   "execution_count": 4,
   "metadata": {},
   "outputs": [
    {
     "data": {
      "text/plain": "'hello 234 world 234'"
     },
     "execution_count": 4,
     "metadata": {},
     "output_type": "execute_result"
    }
   ],
   "source": [
    "inputStr = \"hello 123 world 123\"\n",
    "inputStr.replace(\"123\", \"234\")"
   ]
  },
  {
   "cell_type": "markdown",
   "metadata": {},
   "source": [
    "如果inputStr是hello123world345就没法完成替换"
   ]
  },
  {
   "cell_type": "code",
   "execution_count": 5,
   "metadata": {},
   "outputs": [
    {
     "data": {
      "text/plain": "'hello234world234'"
     },
     "execution_count": 5,
     "metadata": {},
     "output_type": "execute_result"
    }
   ],
   "source": [
    "inputStr = \"hello123world456\"\n",
    "re.sub(\"(\\d)+\", \"234\", inputStr)"
   ]
  },
  {
   "cell_type": "markdown",
   "metadata": {},
   "source": [
    "### repl部分是pattern  \n",
    "`\\w`的作用：匹配非特殊字符，即a-z、A-Z、0-9、_、汉字  \n",
    "https://blog.csdn.net/qq_34776336/article/details/81416232?depth_1-utm_source=distribute.pc_relevant.none-task&utm_source=distribute.pc_relevant.none-task  \n",
    "\n",
    "`\\1`的作用：\n",
    "```\n",
    "核心用法：选定组(group)的指定次序元素\n",
    "例如\"(ab)(cd)(ef)\\1\"就是\"(ab)(cd)(ef)(cd)\" 因为分组号从0开始\n",
    "“（.+）\\1”就是任意两组相同的元素\n",
    "```\n",
    "https://blog.csdn.net/weixin_43914889/article/details/88047709?depth_1-utm_source=distribute.pc_relevant.none-task&utm_source=distribute.pc_relevant.none-task"
   ]
  },
  {
   "cell_type": "code",
   "execution_count": 35,
   "metadata": {},
   "outputs": [
    {
     "name": "stdout",
     "output_type": "stream",
     "text": "[('ab', 'cd')]\n"
    }
   ],
   "source": [
    "string = 'abcdabefghij'\n",
    "print(re.findall(r'(ab)(cd)\\1', string)) #返回了匹配的两个组 #这里不写r就会报错"
   ]
  },
  {
   "cell_type": "code",
   "execution_count": 39,
   "metadata": {},
   "outputs": [
    {
     "name": "stdout",
     "output_type": "stream",
     "text": "replacedStr= crifan\n"
    }
   ],
   "source": [
    "inputStr = \"hello crifan, nihao crifan\"\n",
    "replacedStr = re.sub(r\"hello (\\w+), nihao \\1\", \"\\g<1>\", inputStr)  # \n",
    "print(\"replacedStr=\",replacedStr) #crifan"
   ]
  },
  {
   "cell_type": "markdown",
   "metadata": {},
   "source": [
    "### repl是函数  \n",
    "将数字部分都加上111"
   ]
  },
  {
   "cell_type": "code",
   "execution_count": 3,
   "metadata": {},
   "outputs": [
    {
     "ename": "error",
     "evalue": "nothing to repeat at position 0",
     "output_type": "error",
     "traceback": [
      "\u001b[1;31m---------------------------------------------------------------------------\u001b[0m",
      "\u001b[1;31merror\u001b[0m                                     Traceback (most recent call last)",
      "\u001b[1;32m<ipython-input-3-4e7981cb14d7>\u001b[0m in \u001b[0;36m<module>\u001b[1;34m\u001b[0m\n\u001b[0;32m      8\u001b[0m \u001b[1;33m\u001b[0m\u001b[0m\n\u001b[0;32m      9\u001b[0m \u001b[0minputStr\u001b[0m \u001b[1;33m=\u001b[0m \u001b[1;34m\"hello 123 world 456\"\u001b[0m\u001b[1;33m\u001b[0m\u001b[1;33m\u001b[0m\u001b[0m\n\u001b[1;32m---> 10\u001b[1;33m \u001b[0mreplaceStr\u001b[0m \u001b[1;33m=\u001b[0m \u001b[0mre\u001b[0m\u001b[1;33m.\u001b[0m\u001b[0msub\u001b[0m\u001b[1;33m(\u001b[0m\u001b[1;34m\"?P<number>\\d+\"\u001b[0m\u001b[1;33m,\u001b[0m \u001b[0m_add111\u001b[0m\u001b[1;33m,\u001b[0m \u001b[0minputStr\u001b[0m\u001b[1;33m)\u001b[0m\u001b[1;33m\u001b[0m\u001b[1;33m\u001b[0m\u001b[0m\n\u001b[0m\u001b[0;32m     11\u001b[0m \u001b[0mprint\u001b[0m\u001b[1;33m(\u001b[0m\u001b[1;34m\"replacedStr\"\u001b[0m\u001b[1;33m,\u001b[0m \u001b[0mreplacedStr\u001b[0m\u001b[1;33m)\u001b[0m\u001b[1;33m\u001b[0m\u001b[1;33m\u001b[0m\u001b[0m\n",
      "\u001b[1;32m~\\AppData\\Local\\Programs\\Python\\Python38\\lib\\re.py\u001b[0m in \u001b[0;36msub\u001b[1;34m(pattern, repl, string, count, flags)\u001b[0m\n\u001b[0;32m    206\u001b[0m     \u001b[0ma\u001b[0m \u001b[0mcallable\u001b[0m\u001b[1;33m,\u001b[0m \u001b[0mit\u001b[0m\u001b[0;31m'\u001b[0m\u001b[0ms\u001b[0m \u001b[0mpassed\u001b[0m \u001b[0mthe\u001b[0m \u001b[0mMatch\u001b[0m \u001b[0mobject\u001b[0m \u001b[1;32mand\u001b[0m \u001b[0mmust\u001b[0m \u001b[1;32mreturn\u001b[0m\u001b[1;33m\u001b[0m\u001b[1;33m\u001b[0m\u001b[0m\n\u001b[0;32m    207\u001b[0m     a replacement string to be used.\"\"\"\n\u001b[1;32m--> 208\u001b[1;33m     \u001b[1;32mreturn\u001b[0m \u001b[0m_compile\u001b[0m\u001b[1;33m(\u001b[0m\u001b[0mpattern\u001b[0m\u001b[1;33m,\u001b[0m \u001b[0mflags\u001b[0m\u001b[1;33m)\u001b[0m\u001b[1;33m.\u001b[0m\u001b[0msub\u001b[0m\u001b[1;33m(\u001b[0m\u001b[0mrepl\u001b[0m\u001b[1;33m,\u001b[0m \u001b[0mstring\u001b[0m\u001b[1;33m,\u001b[0m \u001b[0mcount\u001b[0m\u001b[1;33m)\u001b[0m\u001b[1;33m\u001b[0m\u001b[1;33m\u001b[0m\u001b[0m\n\u001b[0m\u001b[0;32m    209\u001b[0m \u001b[1;33m\u001b[0m\u001b[0m\n\u001b[0;32m    210\u001b[0m \u001b[1;32mdef\u001b[0m \u001b[0msubn\u001b[0m\u001b[1;33m(\u001b[0m\u001b[0mpattern\u001b[0m\u001b[1;33m,\u001b[0m \u001b[0mrepl\u001b[0m\u001b[1;33m,\u001b[0m \u001b[0mstring\u001b[0m\u001b[1;33m,\u001b[0m \u001b[0mcount\u001b[0m\u001b[1;33m=\u001b[0m\u001b[1;36m0\u001b[0m\u001b[1;33m,\u001b[0m \u001b[0mflags\u001b[0m\u001b[1;33m=\u001b[0m\u001b[1;36m0\u001b[0m\u001b[1;33m)\u001b[0m\u001b[1;33m:\u001b[0m\u001b[1;33m\u001b[0m\u001b[1;33m\u001b[0m\u001b[0m\n",
      "\u001b[1;32m~\\AppData\\Local\\Programs\\Python\\Python38\\lib\\re.py\u001b[0m in \u001b[0;36m_compile\u001b[1;34m(pattern, flags)\u001b[0m\n\u001b[0;32m    300\u001b[0m     \u001b[1;32mif\u001b[0m \u001b[1;32mnot\u001b[0m \u001b[0msre_compile\u001b[0m\u001b[1;33m.\u001b[0m\u001b[0misstring\u001b[0m\u001b[1;33m(\u001b[0m\u001b[0mpattern\u001b[0m\u001b[1;33m)\u001b[0m\u001b[1;33m:\u001b[0m\u001b[1;33m\u001b[0m\u001b[1;33m\u001b[0m\u001b[0m\n\u001b[0;32m    301\u001b[0m         \u001b[1;32mraise\u001b[0m \u001b[0mTypeError\u001b[0m\u001b[1;33m(\u001b[0m\u001b[1;34m\"first argument must be string or compiled pattern\"\u001b[0m\u001b[1;33m)\u001b[0m\u001b[1;33m\u001b[0m\u001b[1;33m\u001b[0m\u001b[0m\n\u001b[1;32m--> 302\u001b[1;33m     \u001b[0mp\u001b[0m \u001b[1;33m=\u001b[0m \u001b[0msre_compile\u001b[0m\u001b[1;33m.\u001b[0m\u001b[0mcompile\u001b[0m\u001b[1;33m(\u001b[0m\u001b[0mpattern\u001b[0m\u001b[1;33m,\u001b[0m \u001b[0mflags\u001b[0m\u001b[1;33m)\u001b[0m\u001b[1;33m\u001b[0m\u001b[1;33m\u001b[0m\u001b[0m\n\u001b[0m\u001b[0;32m    303\u001b[0m     \u001b[1;32mif\u001b[0m \u001b[1;32mnot\u001b[0m \u001b[1;33m(\u001b[0m\u001b[0mflags\u001b[0m \u001b[1;33m&\u001b[0m \u001b[0mDEBUG\u001b[0m\u001b[1;33m)\u001b[0m\u001b[1;33m:\u001b[0m\u001b[1;33m\u001b[0m\u001b[1;33m\u001b[0m\u001b[0m\n\u001b[0;32m    304\u001b[0m         \u001b[1;32mif\u001b[0m \u001b[0mlen\u001b[0m\u001b[1;33m(\u001b[0m\u001b[0m_cache\u001b[0m\u001b[1;33m)\u001b[0m \u001b[1;33m>=\u001b[0m \u001b[0m_MAXCACHE\u001b[0m\u001b[1;33m:\u001b[0m\u001b[1;33m\u001b[0m\u001b[1;33m\u001b[0m\u001b[0m\n",
      "\u001b[1;32m~\\AppData\\Local\\Programs\\Python\\Python38\\lib\\sre_compile.py\u001b[0m in \u001b[0;36mcompile\u001b[1;34m(p, flags)\u001b[0m\n\u001b[0;32m    762\u001b[0m     \u001b[1;32mif\u001b[0m \u001b[0misstring\u001b[0m\u001b[1;33m(\u001b[0m\u001b[0mp\u001b[0m\u001b[1;33m)\u001b[0m\u001b[1;33m:\u001b[0m\u001b[1;33m\u001b[0m\u001b[1;33m\u001b[0m\u001b[0m\n\u001b[0;32m    763\u001b[0m         \u001b[0mpattern\u001b[0m \u001b[1;33m=\u001b[0m \u001b[0mp\u001b[0m\u001b[1;33m\u001b[0m\u001b[1;33m\u001b[0m\u001b[0m\n\u001b[1;32m--> 764\u001b[1;33m         \u001b[0mp\u001b[0m \u001b[1;33m=\u001b[0m \u001b[0msre_parse\u001b[0m\u001b[1;33m.\u001b[0m\u001b[0mparse\u001b[0m\u001b[1;33m(\u001b[0m\u001b[0mp\u001b[0m\u001b[1;33m,\u001b[0m \u001b[0mflags\u001b[0m\u001b[1;33m)\u001b[0m\u001b[1;33m\u001b[0m\u001b[1;33m\u001b[0m\u001b[0m\n\u001b[0m\u001b[0;32m    765\u001b[0m     \u001b[1;32melse\u001b[0m\u001b[1;33m:\u001b[0m\u001b[1;33m\u001b[0m\u001b[1;33m\u001b[0m\u001b[0m\n\u001b[0;32m    766\u001b[0m         \u001b[0mpattern\u001b[0m \u001b[1;33m=\u001b[0m \u001b[1;32mNone\u001b[0m\u001b[1;33m\u001b[0m\u001b[1;33m\u001b[0m\u001b[0m\n",
      "\u001b[1;32m~\\AppData\\Local\\Programs\\Python\\Python38\\lib\\sre_parse.py\u001b[0m in \u001b[0;36mparse\u001b[1;34m(str, flags, state)\u001b[0m\n\u001b[0;32m    946\u001b[0m \u001b[1;33m\u001b[0m\u001b[0m\n\u001b[0;32m    947\u001b[0m     \u001b[1;32mtry\u001b[0m\u001b[1;33m:\u001b[0m\u001b[1;33m\u001b[0m\u001b[1;33m\u001b[0m\u001b[0m\n\u001b[1;32m--> 948\u001b[1;33m         \u001b[0mp\u001b[0m \u001b[1;33m=\u001b[0m \u001b[0m_parse_sub\u001b[0m\u001b[1;33m(\u001b[0m\u001b[0msource\u001b[0m\u001b[1;33m,\u001b[0m \u001b[0mstate\u001b[0m\u001b[1;33m,\u001b[0m \u001b[0mflags\u001b[0m \u001b[1;33m&\u001b[0m \u001b[0mSRE_FLAG_VERBOSE\u001b[0m\u001b[1;33m,\u001b[0m \u001b[1;36m0\u001b[0m\u001b[1;33m)\u001b[0m\u001b[1;33m\u001b[0m\u001b[1;33m\u001b[0m\u001b[0m\n\u001b[0m\u001b[0;32m    949\u001b[0m     \u001b[1;32mexcept\u001b[0m \u001b[0mVerbose\u001b[0m\u001b[1;33m:\u001b[0m\u001b[1;33m\u001b[0m\u001b[1;33m\u001b[0m\u001b[0m\n\u001b[0;32m    950\u001b[0m         \u001b[1;31m# the VERBOSE flag was switched on inside the pattern.  to be\u001b[0m\u001b[1;33m\u001b[0m\u001b[1;33m\u001b[0m\u001b[1;33m\u001b[0m\u001b[0m\n",
      "\u001b[1;32m~\\AppData\\Local\\Programs\\Python\\Python38\\lib\\sre_parse.py\u001b[0m in \u001b[0;36m_parse_sub\u001b[1;34m(source, state, verbose, nested)\u001b[0m\n\u001b[0;32m    441\u001b[0m     \u001b[0mstart\u001b[0m \u001b[1;33m=\u001b[0m \u001b[0msource\u001b[0m\u001b[1;33m.\u001b[0m\u001b[0mtell\u001b[0m\u001b[1;33m(\u001b[0m\u001b[1;33m)\u001b[0m\u001b[1;33m\u001b[0m\u001b[1;33m\u001b[0m\u001b[0m\n\u001b[0;32m    442\u001b[0m     \u001b[1;32mwhile\u001b[0m \u001b[1;32mTrue\u001b[0m\u001b[1;33m:\u001b[0m\u001b[1;33m\u001b[0m\u001b[1;33m\u001b[0m\u001b[0m\n\u001b[1;32m--> 443\u001b[1;33m         itemsappend(_parse(source, state, verbose, nested + 1,\n\u001b[0m\u001b[0;32m    444\u001b[0m                            not nested and not items))\n\u001b[0;32m    445\u001b[0m         \u001b[1;32mif\u001b[0m \u001b[1;32mnot\u001b[0m \u001b[0msourcematch\u001b[0m\u001b[1;33m(\u001b[0m\u001b[1;34m\"|\"\u001b[0m\u001b[1;33m)\u001b[0m\u001b[1;33m:\u001b[0m\u001b[1;33m\u001b[0m\u001b[1;33m\u001b[0m\u001b[0m\n",
      "\u001b[1;32m~\\AppData\\Local\\Programs\\Python\\Python38\\lib\\sre_parse.py\u001b[0m in \u001b[0;36m_parse\u001b[1;34m(source, state, verbose, nested, first)\u001b[0m\n\u001b[0;32m    666\u001b[0m                 \u001b[0mitem\u001b[0m \u001b[1;33m=\u001b[0m \u001b[1;32mNone\u001b[0m\u001b[1;33m\u001b[0m\u001b[1;33m\u001b[0m\u001b[0m\n\u001b[0;32m    667\u001b[0m             \u001b[1;32mif\u001b[0m \u001b[1;32mnot\u001b[0m \u001b[0mitem\u001b[0m \u001b[1;32mor\u001b[0m \u001b[0mitem\u001b[0m\u001b[1;33m[\u001b[0m\u001b[1;36m0\u001b[0m\u001b[1;33m]\u001b[0m\u001b[1;33m[\u001b[0m\u001b[1;36m0\u001b[0m\u001b[1;33m]\u001b[0m \u001b[1;32mis\u001b[0m \u001b[0mAT\u001b[0m\u001b[1;33m:\u001b[0m\u001b[1;33m\u001b[0m\u001b[1;33m\u001b[0m\u001b[0m\n\u001b[1;32m--> 668\u001b[1;33m                 raise source.error(\"nothing to repeat\",\n\u001b[0m\u001b[0;32m    669\u001b[0m                                    source.tell() - here + len(this))\n\u001b[0;32m    670\u001b[0m             \u001b[1;32mif\u001b[0m \u001b[0mitem\u001b[0m\u001b[1;33m[\u001b[0m\u001b[1;36m0\u001b[0m\u001b[1;33m]\u001b[0m\u001b[1;33m[\u001b[0m\u001b[1;36m0\u001b[0m\u001b[1;33m]\u001b[0m \u001b[1;32min\u001b[0m \u001b[0m_REPEATCODES\u001b[0m\u001b[1;33m:\u001b[0m\u001b[1;33m\u001b[0m\u001b[1;33m\u001b[0m\u001b[0m\n",
      "\u001b[1;31merror\u001b[0m: nothing to repeat at position 0"
     ]
    }
   ],
   "source": [
    "import re\n",
    "def _add111(mathced):\n",
    "    intStr = matched.group(\"number\") #???怎么把数字取出来的\n",
    "    intValue = int(intStr)\n",
    "    addedValue = intValue + 111\n",
    "    addedValueStr = str(addValue)\n",
    "    return addedValueStr\n",
    "\n",
    "inputStr = \"hello 123 world 456\"\n",
    "replaceStr = re.sub(\"?P<number>\\d+\", _add111, inputStr)\n",
    "print(\"replacedStr\", replacedStr)"
   ]
  },
  {
   "cell_type": "markdown",
   "metadata": {},
   "source": [
    "### 模板系统 \n",
    "类似于字符串格式化"
   ]
  },
  {
   "cell_type": "code",
   "execution_count": 4,
   "metadata": {},
   "outputs": [
    {
     "name": "stdout",
     "output_type": "stream",
     "text": "[name=\"Mr.Gumby\"]Hello, [name]\n"
    }
   ],
   "source": [
    "print('[name=\"Mr.Gumby\"]Hello, [name]') #注意这里的单双引号"
   ]
  },
  {
   "cell_type": "markdown",
   "metadata": {},
   "source": [
    "### r原生字符\n",
    "Python中字符串前面加上 r 表示原生字符串\n",
    "以下是terminal显示结果\n",
    "```\n",
    ">>> import re\n",
    ">>> mm = \"c:\\\\a\\\\b\\\\c\"\n",
    ">>> mm\n",
    "'c:\\\\a\\\\b\\\\c'\n",
    ">>> print(mm)\n",
    "c:\\a\\b\\c\n",
    ">>> re.match(\"c:\\\\\\\\\", mm).group()\n",
    "'c:\\\\'\n",
    ">>> print(re.match(\"c:\\\\\\\\\", mm).group())\n",
    "c:\\\n",
    ">>> print(re.match(\"c:\\\\\\\\a\", mm).group())\n",
    "c:\\a\n",
    "```\n",
    "字符串就是正则表达式，\"c:\\\\a\"打印出来就是c:\\a\n",
    "为了匹配打印的c:\\a，程序里的\"c:\\\\a\"，正则表达式里要写成\"c:\\\\\\\\\\a\"，第一个\"\\\\\"对应\"c:\\\\a\"里的第一个`\\`，这样写太累赘了！\n",
    "\n",
    "原生字符串解决问题！\n",
    "```\n",
    ">>> print(re.match(r\"c:\\\\a\", mm).group())\n",
    "c:\\a\n",
    "```\n",
    "\n",
    "\n",
    "\n"
   ]
  },
  {
   "cell_type": "code",
   "execution_count": 33,
   "metadata": {},
   "outputs": [
    {
     "name": "stdout",
     "output_type": "stream",
     "text": "['2018Nanjing']\n['1809', '2018']\n['China_net1809']\n"
    }
   ],
   "source": [
    "import re\n",
    "a = 'China_net1809Chinna2018Nanjing'\n",
    "b = re.findall(r'\\d{4}Nanjing', a) # 列出全部匹配项，返回list\n",
    "print(b)\n",
    "c = re.findall('\\d{4}', a)\n",
    "print(c)\n",
    "d = re.findall(r'.{9}\\d{4}', a)\n",
    "print(d)"
   ]
  },
  {
   "cell_type": "markdown",
   "metadata": {},
   "source": [
    "正则表达式的分组 \n",
    "https://blog.csdn.net/caianye/article/details/6901289 \n"
   ]
  },
  {
   "cell_type": "code",
   "execution_count": 31,
   "metadata": {},
   "outputs": [
    {
     "name": "stdout",
     "output_type": "stream",
     "text": "<class 're.Match'>\n0-1-2\n0\n('0-1-2', '0', '1', '2')\n"
    }
   ],
   "source": [
    "p = re.compile('(\\d)-(\\d)-(\\d)')\n",
    "m = p.match('0-1-2-3-4-5') # match是从开头找\n",
    "print(type(m)) # 返回一个match对象\n",
    "print(m.group(0))  # 0号分组总是匹配到的整个表达式\n",
    "print(m.group(1))\n",
    "print(m.group(0,1,2,3))"
   ]
  },
  {
   "cell_type": "code",
   "execution_count": 32,
   "metadata": {},
   "outputs": [
    {
     "name": "stdout",
     "output_type": "stream",
     "text": "['9', '8']\n"
    }
   ],
   "source": [
    "c = re.findall('(\\d){4}', a) #加上括号的不同是\n",
    "print(c)\n",
    "# 为什么加了括号之后就只有最后一个数了？？？？？"
   ]
  },
  {
   "cell_type": "markdown",
   "metadata": {},
   "source": [
    "**VERBOSE增加代码可读性！！！**  \n",
    "把Hello, *world*!替换成网页格式"
   ]
  },
  {
   "cell_type": "code",
   "execution_count": 18,
   "metadata": {},
   "outputs": [
    {
     "data": {
      "text/plain": "'Hello, <em>world</em>!'"
     },
     "execution_count": 18,
     "metadata": {},
     "output_type": "execute_result"
    }
   ],
   "source": [
    "emphasis_pattern = re.compile(r'''\n",
    "\\*            #第一个*\n",
    "(\n",
    "    [^\\*]+    #不是*\n",
    ")\n",
    "\\*            #第二个星\n",
    "''',re.VERBOSE)\n",
    "\n",
    "re.sub(emphasis_pattern, r'<em>\\1</em>', 'Hello, *world*!')"
   ]
  },
  {
   "cell_type": "code",
   "execution_count": null,
   "metadata": {},
   "outputs": [],
   "source": []
  }
 ]
}