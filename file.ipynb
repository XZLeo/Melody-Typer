{
 "nbformat": 4,
 "nbformat_minor": 2,
 "metadata": {
  "language_info": {
   "name": "python",
   "codemirror_mode": {
    "name": "ipython",
    "version": 3
   },
   "version": "3.8.1-final"
  },
  "orig_nbformat": 2,
  "file_extension": ".py",
  "mimetype": "text/x-python",
  "name": "python",
  "npconvert_exporter": "python",
  "pygments_lexer": "ipython3",
  "version": 3,
  "kernelspec": {
   "name": "python38164bit158c2c1e676b494baa8f78113260f56b",
   "display_name": "Python 3.8.1 64-bit"
  }
 },
 "cells": [
  {
   "cell_type": "code",
   "execution_count": 1,
   "metadata": {},
   "outputs": [],
   "source": [
    "f = open('D:\\sss.txt', 'w')  \n",
    "f.write('hello')  \n",
    "f.close()"
   ]
  },
  {
   "cell_type": "code",
   "execution_count": 2,
   "metadata": {},
   "outputs": [
    {
     "ename": "FileNotFoundError",
     "evalue": "[Errno 2] No such file or directory: 'D:\\\\s.txt'",
     "output_type": "error",
     "traceback": [
      "\u001b[1;31m---------------------------------------------------------------------------\u001b[0m",
      "\u001b[1;31mFileNotFoundError\u001b[0m                         Traceback (most recent call last)",
      "\u001b[1;32m<ipython-input-2-128b046f04b6>\u001b[0m in \u001b[0;36m<module>\u001b[1;34m\u001b[0m\n\u001b[1;32m----> 1\u001b[1;33m \u001b[0mf\u001b[0m \u001b[1;33m=\u001b[0m \u001b[0mopen\u001b[0m\u001b[1;33m(\u001b[0m\u001b[1;34m'D:\\s.txt'\u001b[0m\u001b[1;33m,\u001b[0m \u001b[1;34m'r'\u001b[0m\u001b[1;33m)\u001b[0m \u001b[1;31m# 若不存在就会返回FileNotFoundError\u001b[0m\u001b[1;33m\u001b[0m\u001b[1;33m\u001b[0m\u001b[0m\n\u001b[0m",
      "\u001b[1;31mFileNotFoundError\u001b[0m: [Errno 2] No such file or directory: 'D:\\\\s.txt'"
     ]
    }
   ],
   "source": [
    "f = open('D:\\s.txt', 'r') # 若不存在就会返回FileNotFoundError"
   ]
  },
  {
   "cell_type": "code",
   "execution_count": 3,
   "metadata": {},
   "outputs": [
    {
     "data": {
      "text/plain": "'hell'"
     },
     "execution_count": 3,
     "metadata": {},
     "output_type": "execute_result"
    }
   ],
   "source": [
    "f = open('D:\\sss.txt', 'r') # 若不存在就会返回FileNotFoundError\n",
    "f.read(4)"
   ]
  },
  {
   "cell_type": "code",
   "execution_count": 4,
   "metadata": {},
   "outputs": [
    {
     "data": {
      "text/plain": "'o'"
     },
     "execution_count": 4,
     "metadata": {},
     "output_type": "execute_result"
    }
   ],
   "source": [
    "f.read() #无读取字符数，读取剩下文件"
   ]
  },
  {
   "cell_type": "markdown",
   "metadata": {},
   "source": [
    "从设定读取位置， seek和tell\n",
    "\n",
    "偏移量从文件开头开始计算，偏移量必须是非负的 `seek(offset[,whence])`\n",
    "以下代码将在文件开头第五个字节处写入“Hello, World!”"
   ]
  },
  {
   "cell_type": "code",
   "execution_count": 2,
   "metadata": {},
   "outputs": [
    {
     "data": {
      "text/plain": "'01234Hello, World189'"
     },
     "execution_count": 2,
     "metadata": {},
     "output_type": "execute_result"
    }
   ],
   "source": [
    "f = open('D:\\s.txt', 'w')\n",
    "f.write('01234567890123456789')\n",
    "f.seek(5) #将‘当前位置’移动到offset定义的位置，设置维1\n",
    "f.write('Hello, World1')\n",
    "f.close()\n",
    "f = open('D:\\s.txt', 'r')\n",
    "f.read() #整个文件当作字符串来读取"
   ]
  },
  {
   "cell_type": "markdown",
   "metadata": {},
   "source": [
    "tell方法返回当前文件的位置"
   ]
  },
  {
   "cell_type": "code",
   "execution_count": 4,
   "metadata": {},
   "outputs": [
    {
     "data": {
      "text/plain": "'012'"
     },
     "execution_count": 4,
     "metadata": {},
     "output_type": "execute_result"
    }
   ],
   "source": [
    "f = open('D:\\s.txt', 'r')\n",
    "f.read(3)"
   ]
  },
  {
   "cell_type": "code",
   "execution_count": 7,
   "metadata": {},
   "outputs": [
    {
     "data": {
      "text/plain": "7"
     },
     "execution_count": 7,
     "metadata": {},
     "output_type": "execute_result"
    }
   ],
   "source": [
    "f.read(4) # 多个read命令将向后叠加移动‘当前位置’\n",
    "f.tell()"
   ]
  },
  {
   "cell_type": "markdown",
   "metadata": {},
   "source": [
    "读写行 \n",
    "readline方法读取单独一行 \n",
    "readlines方法可以读取一个文件中的所有行并将其作为列表返回  \n",
    "writelines方法，传给它一个字符串的列表"
   ]
  },
  {
   "cell_type": "code",
   "execution_count": 9,
   "metadata": {},
   "outputs": [
    {
     "name": "stdout",
     "output_type": "stream",
     "text": "0:Welcome to this file\n\n1:There is nothing here except\n\n2:This stupid haiku\n"
    }
   ],
   "source": [
    "with open('somefile.txt') as somefile:\n",
    "    for i in range(3):\n",
    "        print(str(i) + ':' + somefile.readline())\n"
   ]
  },
  {
   "cell_type": "code",
   "execution_count": 10,
   "metadata": {},
   "outputs": [
    {
     "name": "stdout",
     "output_type": "stream",
     "text": "['Welcome to this file\\n',\n 'There is nothing here except\\n',\n 'This stupid haiku']\n"
    }
   ],
   "source": [
    "import pprint\n",
    "pprint.pprint(open('somefile.txt','r').readlines())"
   ]
  },
  {
   "cell_type": "markdown",
   "metadata": {},
   "source": [
    "关闭文件  \n",
    "确保关闭的语句,可以省去`f.close()`\n",
    "```\n",
    "with open('somefile.txt') as somefile:\n",
    "    do_something(somefile)\n",
    "```\n",
    "with语句可以打开文件并且将其赋值到变量`somefile`上。文件在语句结束后会自动关闭"
   ]
  },
  {
   "cell_type": "markdown",
   "metadata": {},
   "source": [
    "文件对象是可迭代的  \n",
    "下面没有显式地将打开的文件赋值给变量， 也就无法显示的关闭文件"
   ]
  },
  {
   "cell_type": "code",
   "execution_count": 12,
   "metadata": {},
   "outputs": [
    {
     "name": "stdout",
     "output_type": "stream",
     "text": "Welcome to this file\n\nThere is nothing here except\n\nThis stupid haiku\n"
    }
   ],
   "source": [
    "for line in open('somefile.txt'): \n",
    "    print(line)\n"
   ]
  }
 ]
}